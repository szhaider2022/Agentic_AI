{
  "nbformat": 4,
  "nbformat_minor": 0,
  "metadata": {
    "colab": {
      "provenance": []
    },
    "kernelspec": {
      "name": "python3",
      "display_name": "Python 3"
    },
    "language_info": {
      "name": "python"
    }
  },
  "cells": [
    {
      "cell_type": "code",
      "execution_count": null,
      "metadata": {
        "id": "MZIVyT747MhC"
      },
      "outputs": [],
      "source": []
    },
    {
      "cell_type": "markdown",
      "source": [
        "# New Section\n",
        "\n",
        "*   List item\n",
        "*   List item\n",
        "\n"
      ],
      "metadata": {
        "id": "l_WhnYOH7Ufd"
      }
    },
    {
      "cell_type": "markdown",
      "source": [
        "Project 03: Zeeshan’s Calculator Agent\n",
        "Table of Contents\n",
        "Overview\n",
        "Features\n",
        "Main Components\n",
        "Code Implementation\n",
        "Tool Definitions\n",
        "Tool Set\n",
        "Agent Implementation\n",
        "Running the Agent\n",
        "Overview\n",
        "This project is Hasnain's Calculator Agent, an intelligent agent that performs arithmetic operations and provides information about its creator using LangChain and Google Gemini LLM. The agent interacts with the user through natural language queries, making it both useful and engaging.\n",
        "\n",
        "Features\n",
        "Arithmetic Operations: Supports addition, subtraction, multiplication, and division of integers.\n",
        "Information Retrieval: Provides insights about Hasnain, including his work, projects, and skills.\n",
        "Interactive Interface: Allows users to interact by typing queries and getting intelligent responses in real-time.\n",
        "Main Components\n",
        "Arithmetic Tools: These tools perform fundamental arithmetic operations:\n",
        "\n",
        "Addition Tool: Adds two integers.\n",
        "Subtraction Tool: Subtracts one integer from another.\n",
        "Multiplication Tool: Multiplies two integers.\n",
        "Division Tool: Divides one integer by another.\n",
        "Information Tools:\n",
        "\n",
        "Introduction Tool: Provides an overview of Hasnain.\n",
        "Creator Tool: Shares information about the agent's creator.\n",
        "Goodbye Tool: A simple tool that stops the agent and provides a farewell message.\n"
      ],
      "metadata": {
        "id": "XCoIRPuY7oDE"
      }
    },
    {
      "cell_type": "code",
      "source": [
        "!pip install -q -U langchain\n",
        "!pip install -q -U langchain-google-genai"
      ],
      "metadata": {
        "colab": {
          "base_uri": "https://localhost:8080/"
        },
        "id": "pXkjPafS9FMS",
        "outputId": "06a5c840-37ba-4d55-a08a-c276640b34be"
      },
      "execution_count": 2,
      "outputs": [
        {
          "output_type": "stream",
          "name": "stdout",
          "text": [
            "\u001b[?25l   \u001b[90m━━━━━━━━━━━━━━━━━━━━━━━━━━━━━━━━━━━━━━━━\u001b[0m \u001b[32m0.0/41.5 kB\u001b[0m \u001b[31m?\u001b[0m eta \u001b[36m-:--:--\u001b[0m\r\u001b[2K   \u001b[90m━━━━━━━━━━━━━━━━━━━━━━━━━━━━━━━━━━━━━━━━\u001b[0m \u001b[32m41.5/41.5 kB\u001b[0m \u001b[31m1.6 MB/s\u001b[0m eta \u001b[36m0:00:00\u001b[0m\n",
            "\u001b[?25h"
          ]
        }
      ]
    },
    {
      "cell_type": "code",
      "source": [
        "# Code Explanation\n",
        "# 1. Import Libraries\n",
        "from langchain.prompts import PromptTemplate\n",
        "from langchain.chains import LLMChain\n",
        "from google.colab import userdata\n",
        "from langchain_google_genai import ChatGoogleGenerativeAI"
      ],
      "metadata": {
        "id": "YFvSxuMo8Ju_"
      },
      "execution_count": 3,
      "outputs": []
    },
    {
      "cell_type": "code",
      "source": [
        "from google.colab import userdata\n",
        "import os\n",
        "\n",
        "os.environ['GOOGLE_API_KEY'] = userdata.get('GOOGLE_API_KEY')\n",
        "\n",
        "from langchain_google_genai import ChatGoogleGenerativeAI\n",
        "\n",
        "llm = ChatGoogleGenerativeAI(model='gemini-1.5-flash', verbose=True)\n",
        "\n",
        "# Example Invocation:\n",
        "response = llm.invoke(\"Who is Zeeshan?\")\n",
        "print(response.content)"
      ],
      "metadata": {
        "colab": {
          "base_uri": "https://localhost:8080/"
        },
        "id": "_-lgmL3t9p8Z",
        "outputId": "cc7ffe96-4261-47a7-bb2f-1e80985c843f"
      },
      "execution_count": 6,
      "outputs": [
        {
          "output_type": "stream",
          "name": "stdout",
          "text": [
            "There's no single, universally known person named Zeeshan.  Zeeshan is a common Muslim name, and many people with that name exist across the globe.  To find out who a specific Zeeshan is, you'd need to provide more information, such as their profession, location, or any other identifying details.\n"
          ]
        }
      ]
    },
    {
      "cell_type": "code",
      "source": [
        "!pip install -q -U langchain langchain_community langchain_google_genai"
      ],
      "metadata": {
        "colab": {
          "base_uri": "https://localhost:8080/"
        },
        "id": "-t4iQ3OM-Fqm",
        "outputId": "a29084c3-0e4b-46df-938e-34ce5ed3f2d3"
      },
      "execution_count": 7,
      "outputs": [
        {
          "output_type": "stream",
          "name": "stdout",
          "text": [
            "\u001b[2K   \u001b[90m━━━━━━━━━━━━━━━━━━━━━━━━━━━━━━━━━━━━━━━━\u001b[0m \u001b[32m2.5/2.5 MB\u001b[0m \u001b[31m28.9 MB/s\u001b[0m eta \u001b[36m0:00:00\u001b[0m\n",
            "\u001b[2K   \u001b[90m━━━━━━━━━━━━━━━━━━━━━━━━━━━━━━━━━━━━━━━━\u001b[0m \u001b[32m49.5/49.5 kB\u001b[0m \u001b[31m3.0 MB/s\u001b[0m eta \u001b[36m0:00:00\u001b[0m\n",
            "\u001b[?25h"
          ]
        }
      ]
    },
    {
      "cell_type": "code",
      "source": [
        "from google.colab import userdata\n",
        "import os\n",
        "\n",
        "os.environ['GOOGLE_API_KEY'] = userdata.get('GOOGLE_API_KEY')\n",
        "\n",
        "\n"
      ],
      "metadata": {
        "id": "Tf2yfNaL-Fxz"
      },
      "execution_count": 8,
      "outputs": []
    },
    {
      "cell_type": "code",
      "source": [
        "\n",
        "from langchain_google_genai import ChatGoogleGenerativeAI\n",
        "\n",
        "llm=ChatGoogleGenerativeAI(model=\"gemini-2.0-flash-exp\",verbose=True)\n",
        "\n",
        "llm.invoke(\"Who is Zeeshan?\").content\n",
        ""
      ],
      "metadata": {
        "colab": {
          "base_uri": "https://localhost:8080/",
          "height": 127
        },
        "id": "_a5l6s3j-vwE",
        "outputId": "0fe60764-fc7d-4412-ed22-9feac88cb250"
      },
      "execution_count": 9,
      "outputs": [
        {
          "output_type": "execute_result",
          "data": {
            "text/plain": [
              "'The name \"Zeeshan\" is a fairly common name, particularly in South Asian and Middle Eastern cultures. Without more context, it\\'s impossible to know which specific Zeeshan you\\'re asking about. \\n\\nHere\\'s what I can tell you:\\n\\n* **Meaning:** The name \"Zeeshan\" typically means \"dignity,\" \"high status,\" or \"magnificent\" in Urdu and Persian.\\n* **Common Usage:** It\\'s a popular given name for males in Muslim communities across the globe.\\n\\n**To help me understand who you\\'re asking about, please provide more information. For example, are you thinking of:**\\n\\n* **A specific person you know?** If so, tell me their full name or any identifying information you have.\\n* **A public figure?** If so, do you know their profession, nationality, or any other relevant details?\\n* **Someone you encountered online?** If so, where did you encounter them (e.g., social media, website, game)?\\n\\nThe more information you give me, the better I can understand who you\\'re referring to and provide you with a helpful answer.'"
            ],
            "application/vnd.google.colaboratory.intrinsic+json": {
              "type": "string"
            }
          },
          "metadata": {},
          "execution_count": 9
        }
      ]
    },
    {
      "cell_type": "code",
      "source": [
        "from langchain.tools import Tool\n",
        "from langchain_core.tools import tool\n",
        "\n",
        "@tool\n",
        "def add(a: int, b: int) -> int:\n",
        "    \"\"\"Add two integers.\"\"\"\n",
        "    print(\"Tool Message:  Addition Tool is Called!\")\n",
        "    print(\"=\"*40)\n",
        "    return a + b\n",
        "@tool\n",
        "def subtract(a: int, b: int) -> int:\n",
        "    \"\"\"Subtract two integers.\"\"\"\n",
        "    print(\"Tool Message:  Subtraction Tool is Called!\")\n",
        "    print(\"=\"*40)\n",
        "    return a - b\n",
        "@tool\n",
        "def multiply(a: int, b: int) -> int:\n",
        "    \"\"\"Multiply two integers.\"\"\"\n",
        "    print(\"Tool Message:  Multiplication Tool is Called!\")\n",
        "    print(\"=\"*40)\n",
        "    return a * b\n",
        "@tool\n",
        "def divide(a: int, b: int) -> float:\n",
        "    \"\"\"Divide two integers.\"\"\"\n",
        "    print(\"Tool Message:  Division Tool is Called!\")\n",
        "    print(\"=\"*40)\n",
        "    if b == 0:\n",
        "        return \"Error: Division by zero is not allowed.\"\n",
        "    return a / b\n",
        "@tool\n",
        "def intro(input_str: str = \"\") -> str:\n",
        "    \"\"\"Provide Hasnain's introduction.\"\"\"\n",
        "    print(\"Tool Message:  Introduction Tool is Called!\")\n",
        "    print(\"=\"*40)\n",
        "    return (\n",
        "        \"\"\"Zeeshan Haider is a skilled web developer and programmer with a passion for creating dynamic, user-focused projects.\n",
        "        Here is His Linkedin Profile: https://www.linkedin.com/in/hasnain-ali-developer/\n",
        "        His portfolio features innovative Python projects and AI solutions, including a chatbot built with LangChain and Google Gemini LLM.\n",
        "        He is exploring Agentic AI and intelligent agents, driving advancements in automation and artificial intelligence.\"\"\"\n",
        "    )\n",
        "@tool\n",
        "def creator(input_str: str = \"\") -> str:\n",
        "    \"\"\"Provide Zeesahn's introduction.\"\"\"\n",
        "    print(\"Tool Message:  Developer Detailes Tool is Called!\")\n",
        "    print(\"=\"*40)\n",
        "    return (\n",
        "        \"\"\"I am a Calculator Agent Developed By Hasnain Ali.\n",
        "        If You Want to know About Hasnain Ali Then Type Who Is hasnain\n",
        "    \"\"\"\n",
        "    )\n",
        "\n",
        "@tool\n",
        "def goodbye(input_str: str = \"\") -> str:\n",
        "    \"\"\"Stop the Agent.\"\"\"\n",
        "    print(\"Tool Message:  Good Bye Tool is Called!\")\n",
        "    print(\"=\"*40)\n",
        "    return\n",
        "    print(\"Goodbye! Thanks for your visit. Come again...\")\n",
        "\n",
        "@tool\n",
        "def give_social_accounts(input_str: str = \"\") -> str:\n",
        "    \"\"\"Provide Zeeshn's social accounts.\"\"\"\n",
        "    print(\"Tool Message:  Contact Detailes Tool is Called!\")\n",
        "    print(\"=\"*40)\n",
        "    return (\n",
        "        \"\"\"\n",
        "        Zeeshan's Linkedin: https://www.linkedin.com/in/hasnain-ali-developer/\n",
        "        Zeeshan's Zeeshan's Github: https://github.com/HasnainCodeHub\n",
        "        Hasnain's Instagram: https://www.instagram.com/i_hasnainaliofficial/\n",
        "        Hasnain's Facebook Profile: https://www.facebook.com/hasnainazeem.hasnainazeem.1\n",
        "        Hasnain's Email Address: husnainazeem048@gmail.com\n",
        "        Hasnain's Contact Number: 03702537927\n",
        "        \"\"\"\n",
        "    )\n",
        ""
      ],
      "metadata": {
        "id": "WcM354d1-Fz5"
      },
      "execution_count": 11,
      "outputs": []
    },
    {
      "cell_type": "code",
      "source": [
        "\n",
        "tools = [\n",
        "    add,\n",
        "    subtract,\n",
        "    multiply,\n",
        "    divide,\n",
        "    intro,\n",
        "    creator,\n",
        "    goodbye,\n",
        "    give_social_accounts\n",
        "]"
      ],
      "metadata": {
        "id": "8kQABicxBEdp"
      },
      "execution_count": 12,
      "outputs": []
    },
    {
      "cell_type": "code",
      "source": [
        "from langchain.agents import initialize_agent, AgentType\n",
        "\n",
        "# Initialize the agent\n",
        "agent = initialize_agent(\n",
        "    tools,                        # Provide the tools\n",
        "    llm,                            # LLM for fallback\n",
        "    agent=AgentType.STRUCTURED_CHAT_ZERO_SHOT_REACT_DESCRIPTION,\n",
        "    max_iterations=50,\n",
        "    # verbose=True                        # Enable debugging output\n",
        ")\n",
        "\n",
        ""
      ],
      "metadata": {
        "id": "MIi_J0zNBL0M"
      },
      "execution_count": null,
      "outputs": []
    },
    {
      "cell_type": "code",
      "source": [
        "print(\"Welcome To Zeeshan's Coding World\")\n",
        "print(\"=\" * 40)\n",
        "print(\"I am a Calculator Agent, and I also have information about my Creator....\")\n",
        "\n",
        "while True:\n",
        "    user_query = input(\"Ask your query (type 'exit' or 'goodbye' to end): \").strip().lower()\n",
        "    print(f\"Human Message: {user_query}\")\n",
        "    print(\"=\" * 40)\n",
        "    if user_query in [\"exit\", \"i have to go\", \"goodbye\", \"please stop\", \"end\"]:\n",
        "        print(\"Agent Response: Goodbye! Thanks for your visit. Come again...\")\n",
        "        print(\"=\" * 40)\n",
        "        break\n",
        "    try:\n",
        "        # Adjust the input dictionary to match the expected key\n",
        "\n",
        "        response = agent.invoke({\"input\": user_query})  # 'input' key in lowercase\n",
        "        print(f\"Agent Response: {response.get('output', 'No output available')}\")  # Safely access the response output\n",
        "        print(\"=\" * 40)\n",
        "    except Exception as e:\n",
        "        print(f\"An error occurred: {e}\")"
      ],
      "metadata": {
        "colab": {
          "base_uri": "https://localhost:8080/"
        },
        "id": "tJlMB69yBL3n",
        "outputId": "7d7d4cc5-5956-443f-84a4-2ca1173ea502"
      },
      "execution_count": 15,
      "outputs": [
        {
          "output_type": "stream",
          "name": "stdout",
          "text": [
            "Welcome To Zeeshan's Coding World\n",
            "========================================\n",
            "I am a Calculator Agent, and I also have information about my Creator....\n",
            "Ask your query (type 'exit' or 'goodbye' to end): exit\n",
            "Human Message: exit\n",
            "========================================\n",
            "Agent Response: Goodbye! Thanks for your visit. Come again...\n",
            "========================================\n"
          ]
        }
      ]
    },
    {
      "cell_type": "code",
      "source": [],
      "metadata": {
        "id": "0vH92OjE-F3U"
      },
      "execution_count": null,
      "outputs": []
    }
  ]
}