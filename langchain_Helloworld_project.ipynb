{
  "nbformat": 4,
  "nbformat_minor": 0,
  "metadata": {
    "colab": {
      "provenance": []
    },
    "kernelspec": {
      "name": "python3",
      "display_name": "Python 3"
    },
    "language_info": {
      "name": "python"
    }
  },
  "cells": [
    {
      "cell_type": "code",
      "execution_count": null,
      "metadata": {
        "id": "TrhdcbwnDSZq"
      },
      "outputs": [],
      "source": []
    },
    {
      "cell_type": "markdown",
      "source": [
        "Prerequisites\n",
        "Python Environment: Ensure you have Python installed.\n",
        "Google Colab: This notebook is designed to run in Google Colab.\n",
        "Google Gemini API Key: Obtain your API key for Google Gemini and save it in the Colab environment using userdata.\n",
        "Installation\n",
        "Install the required libraries:\n",
        "\n",
        "!pip install langchain"
      ],
      "metadata": {
        "id": "N5FZnUF8DUZH"
      }
    },
    {
      "cell_type": "code",
      "source": [
        "%pip install -q -U langchain\n",
        "%pip install -q -U langchain-google-genai"
      ],
      "metadata": {
        "colab": {
          "base_uri": "https://localhost:8080/"
        },
        "id": "G4eJEfGncgho",
        "outputId": "df4f59e5-b9c8-4292-926d-4b8c915a3469"
      },
      "execution_count": null,
      "outputs": [
        {
          "output_type": "stream",
          "name": "stdout",
          "text": [
            "\u001b[?25l   \u001b[90m━━━━━━━━━━━━━━━━━━━━━━━━━━━━━━━━━━━━━━━━\u001b[0m \u001b[32m0.0/1.0 MB\u001b[0m \u001b[31m?\u001b[0m eta \u001b[36m-:--:--\u001b[0m\r\u001b[2K   \u001b[90m━━━━━━━━━━━━━━━━━━━━━━━━━━━━━━━━━━━━━━━━\u001b[0m \u001b[32m1.0/1.0 MB\u001b[0m \u001b[31m42.7 MB/s\u001b[0m eta \u001b[36m0:00:00\u001b[0m\n",
            "\u001b[2K   \u001b[90m━━━━━━━━━━━━━━━━━━━━━━━━━━━━━━━━━━━━━━━━\u001b[0m \u001b[32m411.6/411.6 kB\u001b[0m \u001b[31m24.6 MB/s\u001b[0m eta \u001b[36m0:00:00\u001b[0m\n",
            "\u001b[2K   \u001b[90m━━━━━━━━━━━━━━━━━━━━━━━━━━━━━━━━━━━━━━━━\u001b[0m \u001b[32m41.3/41.3 kB\u001b[0m \u001b[31m3.0 MB/s\u001b[0m eta \u001b[36m0:00:00\u001b[0m\n",
            "\u001b[?25h"
          ]
        }
      ]
    },
    {
      "cell_type": "code",
      "source": [
        "# Code Explanation\n",
        "# 1. Import Libraries\n",
        "from langchain.prompts import PromptTemplate\n",
        "from langchain.chains import LLMChain\n",
        "from google.colab import userdata\n",
        "from langchain_google_genai import ChatGoogleGenerativeAI"
      ],
      "metadata": {
        "id": "LJfmAHPwDzO2"
      },
      "execution_count": null,
      "outputs": []
    },
    {
      "cell_type": "code",
      "source": [],
      "metadata": {
        "id": "q8gKxbsZcdSJ"
      },
      "execution_count": null,
      "outputs": []
    },
    {
      "cell_type": "code",
      "source": [
        "# 2. Setup API Key\n",
        "# The API key is securely fetched from userdata:\n",
        "\n",
        "gemini_api_key = userdata.get('GOOGLE_API_KEY')"
      ],
      "metadata": {
        "id": "XLVBCAK7EPGl"
      },
      "execution_count": null,
      "outputs": []
    },
    {
      "cell_type": "code",
      "source": [
        "# 3. Configure the LLM\n",
        "# Set up the Google Gemini Flash model with desired parameters:\n",
        "\n",
        "llm = ChatGoogleGenerativeAI(\n",
        "    model=\"gemini-1.5-flash\",\n",
        "    max_retries=2,\n",
        "    temperature=0.2,\n",
        "    api_key=gemini_api_key\n",
        ")"
      ],
      "metadata": {
        "id": "HKHh4gPqExsm"
      },
      "execution_count": null,
      "outputs": []
    },
    {
      "cell_type": "code",
      "source": [
        "# 4. Create a Prompt Template\n",
        "# Define a prompt template to customize how the model responds:\n",
        "\n",
        "prompt_template = PromptTemplate(\n",
        "    input_variables=[\"question\"],\n",
        "    template=\"Act like a research Economist. Answer the following question:\\n\\n{question}\"\n",
        ")"
      ],
      "metadata": {
        "id": "ou99Q3IEc6rv"
      },
      "execution_count": null,
      "outputs": []
    },
    {
      "cell_type": "code",
      "source": [
        "#5. Initialize the Chain\n",
        "#Combine the LLM and the prompt template into an executable chain:\n",
        "\n",
        "chain = LLMChain(llm=llm, prompt=prompt_template)"
      ],
      "metadata": {
        "colab": {
          "base_uri": "https://localhost:8080/"
        },
        "id": "Vs23IsoRdkVC",
        "outputId": "75e584b7-b3a4-4615-977c-8726d501324b"
      },
      "execution_count": null,
      "outputs": [
        {
          "output_type": "stream",
          "name": "stderr",
          "text": [
            "<ipython-input-9-7c8723fdcf9a>:3: LangChainDeprecationWarning: The class `LLMChain` was deprecated in LangChain 0.1.17 and will be removed in 1.0. Use :meth:`~RunnableSequence, e.g., `prompt | llm`` instead.\n",
            "  chain = LLMChain(llm=llm, prompt=prompt_template)\n"
          ]
        }
      ]
    },
    {
      "cell_type": "code",
      "source": [
        "# prompt: What is ASEAN\n",
        "\n",
        "# Assuming the necessary libraries are installed and the API key is set as in the provided code.\n",
        "\n",
        "from langchain.prompts import PromptTemplate\n",
        "from langchain.chains import LLMChain\n",
        "from google.colab import userdata\n",
        "from langchain_google_genai import ChatGoogleGenerativeAI\n",
        "\n",
        "gemini_api_key = userdata.get('GOOGLE_API_KEY')\n",
        "\n",
        "llm = ChatGoogleGenerativeAI(\n",
        "    model=\"gemini-1.5-flash\",\n",
        "    max_retries=2,\n",
        "    temperature=0.2,\n",
        "    api_key=gemini_api_key\n",
        ")\n",
        "\n",
        "prompt_template = PromptTemplate(\n",
        "    input_variables=[\"question\"],\n",
        "    template=\"Act like a research Economist. Answer the following question:\\n\\n{question}\"\n",
        ")\n",
        "\n",
        "chain = LLMChain(llm=llm, prompt=prompt_template)\n",
        "\n",
        "question = \"What is ASEAN?\"\n",
        "response = chain.run(question)\n",
        "print(\"Answer:\", response)"
      ],
      "metadata": {
        "colab": {
          "base_uri": "https://localhost:8080/"
        },
        "id": "1jpo7pscd20y",
        "outputId": "b1ae5a3f-8609-4b53-d8fa-38ed7c78ccae"
      },
      "execution_count": null,
      "outputs": [
        {
          "output_type": "stream",
          "name": "stderr",
          "text": [
            "<ipython-input-10-fbccedd8a7c8>:27: LangChainDeprecationWarning: The method `Chain.run` was deprecated in langchain 0.1.0 and will be removed in 1.0. Use :meth:`~invoke` instead.\n",
            "  response = chain.run(question)\n"
          ]
        },
        {
          "output_type": "stream",
          "name": "stdout",
          "text": [
            "Answer: ASEAN, or the Association of Southeast Asian Nations, is a significant intergovernmental organization in the field of economics and beyond.  From a research economist's perspective, ASEAN presents a fascinating case study in regional economic integration.  It's not a single, unified market like the EU, but rather a complex arrangement with varying degrees of integration across its ten member states: Brunei, Cambodia, Indonesia, Laos, Malaysia, Myanmar, the Philippines, Singapore, Thailand, and Vietnam.\n",
            "\n",
            "Economically, ASEAN's importance stems from several key aspects:\n",
            "\n",
            "* **Regional Trade Agreements:**  ASEAN's primary economic focus has been on fostering intra-regional trade through agreements like the ASEAN Free Trade Area (AFTA).  However, the effectiveness of AFTA is a subject of ongoing research, with studies examining the extent to which tariff reductions have actually stimulated trade and the presence of non-tariff barriers that continue to hinder integration.  The impact on different sectors and income groups within member states also requires nuanced analysis.\n",
            "\n",
            "* **Foreign Direct Investment (FDI):** ASEAN's growing economies and large combined population attract significant FDI.  Research often focuses on the distribution of FDI across member states, the types of industries attracting investment, and the impact of FDI on economic growth, employment, and income inequality.  The role of ASEAN's policies in attracting and directing FDI is a crucial area of study.\n",
            "\n",
            "* **Economic Diversification and Development:**  ASEAN comprises countries at varying stages of economic development.  Research explores the challenges and opportunities associated with promoting economic diversification, reducing reliance on primary commodities, and fostering technological advancement across the region.  The role of regional cooperation in addressing these challenges is a key research theme.\n",
            "\n",
            "* **Regional Value Chains:**  The increasing integration within ASEAN has led to the development of regional value chains, where production processes are fragmented across different member states.  Research investigates the efficiency and competitiveness of these value chains, the distribution of benefits across participating countries, and the implications for regional specialization and trade patterns.\n",
            "\n",
            "* **Challenges to Integration:**  Despite progress, ASEAN faces significant challenges to deeper economic integration.  These include disparities in economic development levels across member states, differing regulatory frameworks, infrastructure gaps, and political and security concerns.  Research examines these challenges and explores potential policy solutions to overcome them.\n",
            "\n",
            "In conclusion, ASEAN is more than just a geographical grouping; it's a dynamic and evolving economic entity that presents a rich field of research for economists.  Understanding its successes and shortcomings requires a multifaceted approach, incorporating quantitative analysis of trade flows, FDI, and economic growth, as well as qualitative research on institutional factors, political dynamics, and social impacts.  The ongoing evolution of ASEAN's economic integration continues to provide fertile ground for future research.\n",
            "\n"
          ]
        }
      ]
    },
    {
      "cell_type": "code",
      "source": [],
      "metadata": {
        "id": "2LE1K01Yd23q"
      },
      "execution_count": null,
      "outputs": []
    },
    {
      "cell_type": "code",
      "source": [],
      "metadata": {
        "id": "6dAdS_DVd27R"
      },
      "execution_count": null,
      "outputs": []
    }
  ]
}